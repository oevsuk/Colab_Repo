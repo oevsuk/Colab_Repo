{
  "nbformat": 4,
  "nbformat_minor": 0,
  "metadata": {
    "colab": {
      "name": "sample calculator.ipynb",
      "provenance": [],
      "collapsed_sections": [],
      "toc_visible": true,
      "authorship_tag": "ABX9TyNYnhPLAQZo4qzlXOgbSon2",
      "include_colab_link": true
    },
    "kernelspec": {
      "name": "python3",
      "display_name": "Python 3"
    },
    "language_info": {
      "name": "python"
    },
    "accelerator": "GPU"
  },
  "cells": [
    {
      "cell_type": "markdown",
      "metadata": {
        "id": "view-in-github",
        "colab_type": "text"
      },
      "source": [
        "<a href=\"https://colab.research.google.com/github/oevsuk/Colab_Repo/blob/master/sample_calculator.ipynb\" target=\"_parent\"><img src=\"https://colab.research.google.com/assets/colab-badge.svg\" alt=\"Open In Colab\"/></a>"
      ]
    },
    {
      "cell_type": "code",
      "execution_count": 1,
      "metadata": {
        "id": "SE_UVYeBrB_M",
        "colab": {
          "base_uri": "https://localhost:8080/"
        },
        "outputId": "916b3c7f-d0ee-49d5-edbe-06f8cffbdfb1"
      },
      "outputs": [
        {
          "output_type": "stream",
          "name": "stdout",
          "text": [
            "Mounted at /content/gdrive\n"
          ]
        }
      ],
      "source": [
        "from google.colab import drive\n",
        "drive.mount('/content/gdrive')"
      ]
    },
    {
      "cell_type": "code",
      "source": [
        "!ls \"/content/gdrive/My Drive/\"\n"
      ],
      "metadata": {
        "colab": {
          "base_uri": "https://localhost:8080/"
        },
        "id": "5bUf54Mur5cx",
        "outputId": "7f595635-b843-463b-cbc2-3e5c6fd73ab8"
      },
      "execution_count": 2,
      "outputs": [
        {
          "output_type": "stream",
          "name": "stdout",
          "text": [
            " Automobile_price_data_Raw.csv\n",
            "'Colab Notebooks'\n",
            " hotel.csv\n",
            " Pima_Indians_Diabetes_Binary_Classification_dataset.csv\n",
            " sample.ipynb\n",
            " sample_-_superstore_2.xls\n",
            " titanic_data.csv\n",
            " trees.csv\n"
          ]
        }
      ]
    },
    {
      "cell_type": "code",
      "source": [
        "!ls \"/content/gdrive/My Drive/Colab Notebooks/\""
      ],
      "metadata": {
        "colab": {
          "base_uri": "https://localhost:8080/"
        },
        "id": "HVIZz6RVsXtx",
        "outputId": "34664534-044d-4850-a693-514d1df5a40c"
      },
      "execution_count": 5,
      "outputs": [
        {
          "output_type": "stream",
          "name": "stdout",
          "text": [
            "install_kivy.ipynb     Python_for_data_science_L1_Hands-On.ipynb\n",
            "kivy_calculator.ipynb  sample.ipynb\n"
          ]
        }
      ]
    },
    {
      "cell_type": "code",
      "source": [
        "!pip install  kivy\n",
        "#import kivy"
      ],
      "metadata": {
        "colab": {
          "base_uri": "https://localhost:8080/"
        },
        "id": "tGjRq6O5sdiW",
        "outputId": "4b0831cb-87d9-4b23-9110-3ea71c7c0988"
      },
      "execution_count": 2,
      "outputs": [
        {
          "output_type": "stream",
          "name": "stdout",
          "text": [
            "Requirement already satisfied: kivy in /usr/local/lib/python3.7/dist-packages (2.1.0)\n",
            "Requirement already satisfied: Kivy-Garden>=0.1.4 in /usr/local/lib/python3.7/dist-packages (from kivy) (0.1.5)\n",
            "Requirement already satisfied: pygments in /usr/local/lib/python3.7/dist-packages (from kivy) (2.6.1)\n",
            "Requirement already satisfied: docutils in /usr/local/lib/python3.7/dist-packages (from kivy) (0.17.1)\n",
            "Requirement already satisfied: requests in /usr/local/lib/python3.7/dist-packages (from Kivy-Garden>=0.1.4->kivy) (2.23.0)\n",
            "Requirement already satisfied: chardet<4,>=3.0.2 in /usr/local/lib/python3.7/dist-packages (from requests->Kivy-Garden>=0.1.4->kivy) (3.0.4)\n",
            "Requirement already satisfied: urllib3!=1.25.0,!=1.25.1,<1.26,>=1.21.1 in /usr/local/lib/python3.7/dist-packages (from requests->Kivy-Garden>=0.1.4->kivy) (1.24.3)\n",
            "Requirement already satisfied: idna<3,>=2.5 in /usr/local/lib/python3.7/dist-packages (from requests->Kivy-Garden>=0.1.4->kivy) (2.10)\n",
            "Requirement already satisfied: certifi>=2017.4.17 in /usr/local/lib/python3.7/dist-packages (from requests->Kivy-Garden>=0.1.4->kivy) (2021.10.8)\n"
          ]
        }
      ]
    },
    {
      "cell_type": "code",
      "source": [
        "from kivy.app import App\n",
        "from kivy.uix.button import Button\n",
        "from kivy.uix.boxlayout import BoxLayout\n",
        "from kivy.uix.gridlayout import GridLayout\n",
        "from kivy.uix.label import Label"
      ],
      "metadata": {
        "colab": {
          "base_uri": "https://localhost:8080/"
        },
        "id": "KpcPQSqbutXG",
        "outputId": "ba735eb5-6752-4c77-df74-dfefd157e477"
      },
      "execution_count": 2,
      "outputs": [
        {
          "output_type": "stream",
          "name": "stderr",
          "text": [
            "[INFO   ] [Logger      ] Record log in /root/.kivy/logs/kivy_22-04-15_2.txt\n",
            "[INFO   ] [Kivy        ] v2.1.0\n",
            "[INFO   ] [Kivy        ] Installed at \"/usr/local/lib/python3.7/dist-packages/kivy/__init__.py\"\n",
            "[INFO   ] [Python      ] v3.7.13 (default, Mar 16 2022, 17:37:17) \n",
            "[GCC 7.5.0]\n",
            "[INFO   ] [Python      ] Interpreter at \"/usr/bin/python3\"\n",
            "[INFO   ] [Logger      ] Purge log fired. Processing...\n",
            "[INFO   ] [Logger      ] Purge finished!\n",
            "[INFO   ] [Factory     ] 189 symbols loaded\n",
            "[INFO   ] [Image       ] Providers: img_tex, img_dds, img_sdl2, img_pil (img_ffpyplayer ignored)\n",
            "[INFO   ] [Text        ] Provider: sdl2\n"
          ]
        }
      ]
    },
    {
      "cell_type": "code",
      "source": [
        "class Calculator(App):\n",
        "  def build(self):\n",
        "    widget_root = BoxLayout(orientation = \"vertical\")\n",
        "    label_op = Label(size_hint_y = 0.75, font_size=51)\n",
        "    symbol_button = ('1', '2', '3', '+',\n",
        "                     '4', '5', '6', '*',\n",
        "                     '7', '8', '9', '-',\n",
        "                     '.', '0', '/', '=')\n",
        "    \n",
        "    grid_button = GridLayout(cols=4, size_hint_y=2)\n",
        "\n",
        "    for symbol in symbol_button:\n",
        "      grid_button.add_widget(Button(text=symbol))\n",
        "\n",
        "    button_clear = Button(text=\"CE\", size_hint_y = None, height = 100)\n",
        "\n",
        "    def text_print_button(instance):\n",
        "      label_op.text += instance.text\n",
        "\n",
        "    for button in grid_button.children[1:]:\n",
        "      button.bind(on_press = text_print_button)\n",
        "\n",
        "    def label_text_size(label, new_height):\n",
        "      label.font_size = 0.5*label.height\n",
        "\n",
        "    label_op.bind(height = label_text_size)\n",
        "\n",
        "    def result(instance):\n",
        "      try:\n",
        "        label_op.text = str(eval(label_op.text))\n",
        "      except Exception as e:\n",
        "        print(e)\n",
        "\n",
        "    grid_button.children[0].bind(on_press = result)\n",
        "\n",
        "    def label_clear(instance):\n",
        "      label_op.text = \"\"\n",
        "\n",
        "    button_clear.bind(on_press = label_clear)\n",
        "\n",
        "    widget_root.add_widget(label_op)\n",
        "    widget_root.add_widget(button_clear)\n",
        "    widget_root.add_widget(grid_button)\n",
        "\n",
        "    return widget_root"
      ],
      "metadata": {
        "id": "kYi3KMzO0s3M"
      },
      "execution_count": 3,
      "outputs": []
    },
    {
      "cell_type": "code",
      "source": [
        "Calculator().run()"
      ],
      "metadata": {
        "id": "gYEr3IzWbDcR"
      },
      "execution_count": null,
      "outputs": []
    },
    {
      "cell_type": "code",
      "source": [
        ""
      ],
      "metadata": {
        "id": "QA2Hgt5DbHmJ"
      },
      "execution_count": null,
      "outputs": []
    }
  ]
}